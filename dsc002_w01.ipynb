{
 "cells": [
  {
   "cell_type": "markdown",
   "metadata": {},
   "source": [
    "# Welcome to DSC 495 002 Exploratory Data Analysis for Big Data\n",
    "***\n"
   ]
  },
  {
   "cell_type": "markdown",
   "metadata": {},
   "source": [
    "1. Overview of research project\n",
    "1. Syllabus\n",
    "1. Discussion\n",
    "1. Some data exploration"
   ]
  },
  {
   "cell_type": "code",
   "execution_count": 1,
   "metadata": {},
   "outputs": [
    {
     "ename": "FileNotFoundError",
     "evalue": "[Errno 2] No such file or directory: '/shared/dsc495/data/classics.py'",
     "output_type": "error",
     "traceback": [
      "\u001b[0;31m---------------------------------------------------------------------------\u001b[0m",
      "\u001b[0;31mFileNotFoundError\u001b[0m                         Traceback (most recent call last)",
      "\u001b[0;32m/tmp/ipykernel_220656/914425886.py\u001b[0m in \u001b[0;36m<module>\u001b[0;34m\u001b[0m\n\u001b[1;32m      5\u001b[0m \u001b[0mos\u001b[0m\u001b[0;34m.\u001b[0m\u001b[0mgetcwd\u001b[0m\u001b[0;34m(\u001b[0m\u001b[0;34m)\u001b[0m\u001b[0;34m\u001b[0m\u001b[0;34m\u001b[0m\u001b[0m\n\u001b[1;32m      6\u001b[0m \u001b[0mfilename\u001b[0m \u001b[0;34m=\u001b[0m\u001b[0;34m\"/shared/dsc495/data/classics.py\"\u001b[0m\u001b[0;34m\u001b[0m\u001b[0;34m\u001b[0m\u001b[0m\n\u001b[0;32m----> 7\u001b[0;31m \u001b[0mexec\u001b[0m\u001b[0;34m(\u001b[0m\u001b[0mopen\u001b[0m\u001b[0;34m(\u001b[0m\u001b[0mfilename\u001b[0m\u001b[0;34m)\u001b[0m\u001b[0;34m.\u001b[0m\u001b[0mread\u001b[0m\u001b[0;34m(\u001b[0m\u001b[0;34m)\u001b[0m\u001b[0;34m)\u001b[0m\u001b[0;34m\u001b[0m\u001b[0;34m\u001b[0m\u001b[0m\n\u001b[0m",
      "\u001b[0;31mFileNotFoundError\u001b[0m: [Errno 2] No such file or directory: '/shared/dsc495/data/classics.py'"
     ]
    }
   ],
   "source": [
    "import os\n",
    "import matplotlib.pyplot as plt\n",
    "import pandas as pd\n",
    "import numpy as np\n",
    "os.getcwd()\n",
    "filename =\"/shared/dsc495/data/classics.py\"\n",
    "exec(open(filename).read())"
   ]
  },
  {
   "cell_type": "code",
   "execution_count": 2,
   "metadata": {},
   "outputs": [],
   "source": [
    "books = get_book()"
   ]
  },
  {
   "cell_type": "code",
   "execution_count": 3,
   "metadata": {},
   "outputs": [
    {
     "name": "stdout",
     "output_type": "stream",
     "text": [
      "<class 'list'>\n",
      "1006\n",
      "{'congress classifications': 'PR', 'languages': 'en', 'subjects': 'Sisters -- Fiction,Courtship -- Fiction,Social classes -- Fiction,England -- Fiction,Domestic fiction,Young women -- Fiction,Love stories', 'title': 'Pride and Prejudice', 'type': 'Text', 'author': {'birth': 1775, 'death': 1817, 'name': 'Austen, Jane'}, 'publication': {'day': 1, 'full': 'June, 1998', 'month': 6, 'month name': 'June', 'year': 1998}}\n",
      "{'downloads': 36576, 'id': 1342, 'rank': 1, 'url': 'https://www.gutenberg.org/ebooks/1342', 'formats': {'total': 8, 'types': 'text/plain,text/plain; charset=us-ascii,application/pdf,application/x-mobipocket-ebook,application/zip,application/rdf+xml,application/epub+zip,text/html; charset=us-ascii'}}\n",
      "{'difficulty': {'automated readability index': 10.7, 'coleman liau index': 10.73, 'dale chall readability score': 5.7, 'difficult words': 9032, 'flesch kincaid grade': 7.9, 'flesch reading ease': 70.13, 'gunning fog': 9.200000000000001, 'linsear write formula': 13.5, 'smog index': 3.1}, 'sentiments': {'polarity': 0.13671337760500446, 'subjectivity': 0.5222391494704692}, 'statistics': {'average letter per word': 4.83, 'average sentence length': 18.0, 'average sentence per word': 0.05, 'characters': 586794, 'polysyllables': 4603, 'sentences': 6511, 'syllables': 170648.1, 'words': 121533}}\n"
     ]
    }
   ],
   "source": [
    "print(type(books))\n",
    "print(len(books))\n",
    "type(books[0])\n",
    "books[0].keys()\n",
    "print(books[0][list(books[0].keys())[0]])\n",
    "print(books[0][list(books[0].keys())[1]])\n",
    "print(books[0][list(books[0].keys())[2]])"
   ]
  },
  {
   "cell_type": "code",
   "execution_count": 4,
   "metadata": {},
   "outputs": [
    {
     "data": {
      "text/html": [
       "<div>\n",
       "<style scoped>\n",
       "    .dataframe tbody tr th:only-of-type {\n",
       "        vertical-align: middle;\n",
       "    }\n",
       "\n",
       "    .dataframe tbody tr th {\n",
       "        vertical-align: top;\n",
       "    }\n",
       "\n",
       "    .dataframe thead th {\n",
       "        text-align: right;\n",
       "    }\n",
       "</style>\n",
       "<table border=\"1\" class=\"dataframe\">\n",
       "  <thead>\n",
       "    <tr style=\"text-align: right;\">\n",
       "      <th></th>\n",
       "      <th>years</th>\n",
       "    </tr>\n",
       "  </thead>\n",
       "  <tbody>\n",
       "    <tr>\n",
       "      <th>0</th>\n",
       "      <td>1775</td>\n",
       "    </tr>\n",
       "    <tr>\n",
       "      <th>1</th>\n",
       "      <td>1860</td>\n",
       "    </tr>\n",
       "    <tr>\n",
       "      <th>2</th>\n",
       "      <td>1832</td>\n",
       "    </tr>\n",
       "    <tr>\n",
       "      <th>3</th>\n",
       "      <td>1797</td>\n",
       "    </tr>\n",
       "    <tr>\n",
       "      <th>4</th>\n",
       "      <td>1883</td>\n",
       "    </tr>\n",
       "  </tbody>\n",
       "</table>\n",
       "</div>"
      ],
      "text/plain": [
       "   years\n",
       "0   1775\n",
       "1   1860\n",
       "2   1832\n",
       "3   1797\n",
       "4   1883"
      ]
     },
     "execution_count": 4,
     "metadata": {},
     "output_type": "execute_result"
    }
   ],
   "source": [
    "years = []\n",
    "for book in books:\n",
    "    years.append(book['bibliography']['author']['birth'])\n",
    "df = pd.DataFrame(years, columns=[\"years\"])\n",
    "df.head()"
   ]
  },
  {
   "cell_type": "code",
   "execution_count": 5,
   "metadata": {},
   "outputs": [
    {
     "data": {
      "text/plain": [
       "<BarContainer object of 217 artists>"
      ]
     },
     "execution_count": 5,
     "metadata": {},
     "output_type": "execute_result"
    },
    {
     "data": {
      "image/png": "[encoded data removed]",
      "text/plain": [
       "<Figure size 432x288 with 1 Axes>"
      ]
     },
     "metadata": {
      "needs_background": "light"
     },
     "output_type": "display_data"
    }
   ],
   "source": [
    "ydict = df['years'].value_counts().to_dict()\n",
    "dfyears = pd.DataFrame({'year' : list(ydict.keys()), 'count' : list(ydict.values())})\n",
    "plt.bar(dfyears['year'], dfyears['count'], width=20)"
   ]
  },
  {
   "cell_type": "code",
   "execution_count": 6,
   "metadata": {},
   "outputs": [
    {
     "data": {
      "text/plain": [
       "994     0\n",
       "999     0\n",
       "1000    0\n",
       "1002    0\n",
       "1005    0\n",
       "dtype: int64"
      ]
     },
     "execution_count": 6,
     "metadata": {},
     "output_type": "execute_result"
    }
   ],
   "source": [
    "# gets the indices of 0 year books\n",
    "# do not go to the first one in class. \n",
    "pd.Series(years)[pd.Series(years) == 0].tail()"
   ]
  },
  {
   "cell_type": "code",
   "execution_count": 7,
   "metadata": {},
   "outputs": [
    {
     "data": {
      "text/plain": [
       "{'bibliography': {'congress classifications': '',\n",
       "  'languages': 'en',\n",
       "  'subjects': '',\n",
       "  'title': 'Perfect Answer',\n",
       "  'type': 'Text',\n",
       "  'author': {'birth': 0, 'death': 0, 'name': 'Stecher, L.J.'},\n",
       "  'publication': {'day': 17,\n",
       "   'full': 'March 17, 2016',\n",
       "   'month': 3,\n",
       "   'month name': 'March',\n",
       "   'year': 2016}},\n",
       " 'metadata': {'downloads': 0,\n",
       "  'id': 51482,\n",
       "  'rank': 1001,\n",
       "  'url': 'https://www.gutenberg.org/ebooks/51482',\n",
       "  'formats': {'total': 8,\n",
       "   'types': 'image/jpeg,text/html; charset=us-ascii,text/plain; charset=us-ascii,text/plain,application/zip,application/rdf+xml,application/epub+zip,application/x-mobipocket-ebook'}},\n",
       " 'metrics': {'difficulty': {'automated readability index': 7.9,\n",
       "   'coleman liau index': 10.48,\n",
       "   'dale chall readability score': 7.0,\n",
       "   'difficult words': 691,\n",
       "   'flesch kincaid grade': 5.2,\n",
       "   'flesch reading ease': 77.23,\n",
       "   'gunning fog': 6.4,\n",
       "   'linsear write formula': 5.0,\n",
       "   'smog index': 3.1},\n",
       "  'sentiments': {'polarity': 0.11088290351247666,\n",
       "   'subjectivity': 0.5046814508323656},\n",
       "  'statistics': {'average letter per word': 4.99,\n",
       "   'average sentence length': 11.0,\n",
       "   'average sentence per word': 0.09,\n",
       "   'characters': 19328,\n",
       "   'polysyllables': 127,\n",
       "   'sentences': 332,\n",
       "   'syllables': 5436.9,\n",
       "   'words': 3871}}}"
      ]
     },
     "execution_count": 7,
     "metadata": {},
     "output_type": "execute_result"
    }
   ],
   "source": [
    "books[1000]"
   ]
  }
 ],
 "metadata": {
  "kernelspec": {
   "display_name": "DSC495",
   "language": "python",
   "name": "dsc495"
  },
  "language_info": {
   "codemirror_mode": {
    "name": "ipython",
    "version": 3
   },
   "file_extension": ".py",
   "mimetype": "text/x-python",
   "name": "python",
   "nbconvert_exporter": "python",
   "pygments_lexer": "ipython3",
   "version": "3.10.1"
  }
 },
 "nbformat": 4,
 "nbformat_minor": 4
}
