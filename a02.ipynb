{
 "cells": [
  {
   "cell_type": "markdown",
   "metadata": {},
   "source": [
    "# Week 2 Activity\n",
    "## Reading shared files and preprocessing\n",
    "***\n",
    "We have set up a directory of shared files that everyone in the class should be able to read and access. However, you cannot write to this directory. \n",
    "\n",
    "The files are located in the _shared_ folder, under the course designation _dsc495_.\n",
    "\n",
    "***\n",
    "### 1. List all the contents in the directory `/shared/dsc495`"
   ]
  },
  {
   "cell_type": "code",
   "execution_count": null,
   "metadata": {},
   "outputs": [],
   "source": []
  },
  {
   "cell_type": "markdown",
   "metadata": {},
   "source": [
    "['classics.data',\n",
    " 'CollegeScorecard_Raw_Data.zip',\n",
    " 'classics.py',\n",
    " 'CollegeData']"
   ]
  },
  {
   "cell_type": "markdown",
   "metadata": {},
   "source": [
    "***\n",
    "We are going to use the `College Scorecard Data` which has been unzipped into `CollegeData`\n",
    "\n",
    "We can see the files by listing the directory. Here we use common Unix environment name `TOPPATH` to store the directory that has these files\n",
    "\n",
    "### 2. Create a string variable `TOPPATH` that returns the full path to `CollegeData`. Then, list the directory contents using the variable"
   ]
  },
  {
   "cell_type": "code",
   "execution_count": null,
   "metadata": {},
   "outputs": [],
   "source": []
  },
  {
   "cell_type": "markdown",
   "metadata": {},
   "source": [
    "['MERGED2006_07_PP.csv',\n",
    " 'MERGED2012_13_PP.csv',\n",
    " 'FieldOfStudyData1617_1718_PP.csv',\n",
    " 'Most-Recent-Cohorts-Field-of-Study.csv',\n",
    " 'MERGED2001_02_PP.csv',\n",
    " 'MERGED2000_01_PP.csv',\n",
    " 'MERGED2005_06_PP.csv',\n",
    " 'MERGED2014_15_PP.csv',\n",
    " 'data.yaml',\n",
    " 'MERGED1997_98_PP.csv',\n",
    " 'MERGED2015_16_PP.csv',\n",
    " 'MERGED2007_08_PP.csv',\n",
    " 'MERGED2017_18_PP.csv',\n",
    " 'MERGED2018_19_PP.csv',\n",
    " 'MERGED2003_04_PP.csv',\n",
    " 'MERGED2009_10_PP.csv',\n",
    " 'MERGED1998_99_PP.csv',\n",
    " 'MERGED1996_97_PP.csv',\n",
    " 'MERGED2008_09_PP.csv',\n",
    " 'Most-Recent-Cohorts-All-Data-Elements.csv',\n",
    " 'MERGED2010_11_PP.csv',\n",
    " 'MERGED2002_03_PP.csv',\n",
    " 'MERGED1999_00_PP.csv',\n",
    " 'MERGED2013_14_PP.csv',\n",
    " 'MERGED2004_05_PP.csv',\n",
    " 'MERGED2011_12_PP.csv',\n",
    " 'FieldOfStudyData1415_1516_PP.csv',\n",
    " 'MERGED2016_17_PP.csv',\n",
    " 'MERGED2019_20_PP.csv',\n",
    " 'FieldOfStudyData1516_1617_PP.csv',\n",
    " 'Crosswalks.zip']"
   ]
  },
  {
   "cell_type": "markdown",
   "metadata": {},
   "source": [
    "***\n",
    "### 3. Using pandas function `read.csv()`, read the contents of first 100 rows of `MERGED2015_16_PP.csv`. Print the first 5 rows. "
   ]
  },
  {
   "cell_type": "code",
   "execution_count": null,
   "metadata": {},
   "outputs": [],
   "source": []
  }
 ],
 "metadata": {
  "kernelspec": {
   "display_name": "DSC495",
   "language": "python",
   "name": "dsc495"
  },
  "language_info": {
   "codemirror_mode": {
    "name": "ipython",
    "version": 3
   },
   "file_extension": ".py",
   "mimetype": "text/x-python",
   "name": "python",
   "nbconvert_exporter": "python",
   "pygments_lexer": "ipython3",
   "version": "3.10.1"
  }
 },
 "nbformat": 4,
 "nbformat_minor": 4
}
