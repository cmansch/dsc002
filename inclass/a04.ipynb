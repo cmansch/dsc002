{
 "cells": [
  {
   "cell_type": "markdown",
   "metadata": {},
   "source": [
    "# Week 4 Activity\n",
    "## Reading shared files and preprocessing with context managers\n",
    "***\n",
    "We have set up a directory of shared files that everyone in the class should be able to read and access. However, you cannot write to this directory. \n",
    "\n",
    "The files are located in the _shared_ folder, under the course designation _dsc495_.\n",
    "\n",
    "***\n",
    "\n",
    "### 2. Parsing strings\n",
    "### 3. Functions\n"
   ]
  },
  {
   "cell_type": "markdown",
   "metadata": {},
   "source": [
    "### 1. Using the context manager framework presented in class, read the first 5 rows of a file from the `CollegeData` folder. "
   ]
  },
  {
   "cell_type": "code",
   "execution_count": 1,
   "metadata": {},
   "outputs": [],
   "source": [
    "import pandas as pd"
   ]
  },
  {
   "cell_type": "markdown",
   "metadata": {},
   "source": [
    "***\n",
    "This begs the question, do we need this? And if not, how do we know?\n",
    "\n",
    "For pandas `read_csv()` function, we can find within the [source code](https://github.com/pandas-dev/pandas/blob/bb1f651536508cdfef8550f93ace7849b00046ee/pandas/io/parsers/readers.py#L1240) that the file will always be opened and closed. So, context managers are indeed redundant with `read_csv()`. However, if we are using built-in methods, a context manager should be used. \n",
    "***"
   ]
  },
  {
   "cell_type": "markdown",
   "metadata": {},
   "source": [
    "### 2. Parsing strings\n",
    "\n",
    "Here, we offer a refresher on how indexing of strings occurs in python. \n",
    "\n",
    "Python indices are based on the value occuring 'in-between' characters. \n",
    "\n",
    "To see this, we will use the following string:"
   ]
  },
  {
   "cell_type": "code",
   "execution_count": 2,
   "metadata": {},
   "outputs": [],
   "source": [
    "my_string = \"Python is zero-indexed which includes strings\""
   ]
  },
  {
   "cell_type": "markdown",
   "metadata": {},
   "source": [
    "In the next code boxes, we will do the following \n",
    "1. Iterate over the string\n",
    "1. Slice the string\n",
    "1. Index the string\n",
    "1. Index the string with negative numbers\n",
    "1. Reverse a string"
   ]
  },
  {
   "cell_type": "code",
   "execution_count": null,
   "metadata": {},
   "outputs": [],
   "source": []
  },
  {
   "cell_type": "markdown",
   "metadata": {},
   "source": [
    "***\n",
    "We can do similar parsing using `.iloc` to data frame. This is purely based on integers. \n",
    "***"
   ]
  },
  {
   "cell_type": "code",
   "execution_count": null,
   "metadata": {},
   "outputs": [],
   "source": []
  },
  {
   "cell_type": "markdown",
   "metadata": {},
   "source": [
    "*** \n",
    "### Functions. "
   ]
  },
  {
   "cell_type": "code",
   "execution_count": null,
   "metadata": {},
   "outputs": [],
   "source": []
  },
  {
   "cell_type": "code",
   "execution_count": null,
   "metadata": {},
   "outputs": [],
   "source": []
  }
 ],
 "metadata": {
  "kernelspec": {
   "display_name": "DSC495",
   "language": "python",
   "name": "dsc495"
  },
  "language_info": {
   "codemirror_mode": {
    "name": "ipython",
    "version": 3
   },
   "file_extension": ".py",
   "mimetype": "text/x-python",
   "name": "python",
   "nbconvert_exporter": "python",
   "pygments_lexer": "ipython3",
   "version": "3.10.1"
  }
 },
 "nbformat": 4,
 "nbformat_minor": 4
}
