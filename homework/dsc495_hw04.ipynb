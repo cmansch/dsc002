{
 "cells": [
  {
   "cell_type": "markdown",
   "metadata": {},
   "source": [
    "# Assignment \\#04\n",
    "\n",
    "This assignment is shorter than our others.\n",
    "\n",
    "The focus is to take code given to you and generalize it to a function. \n",
    "\n",
    "Each code statement should be generalized as describe. \n",
    "\n",
    "Each solution should include\n",
    "1. An appropriate name for the function\n",
    "1. A working function that achieves the desired result\n",
    "1. Two examples and their expected results\n",
    "\n",
    "The expected results should be accompanied by an explanation of why that is the expected result. "
   ]
  },
  {
   "cell_type": "markdown",
   "metadata": {},
   "source": [
    "***\n",
    "\n",
    "# Q1: Create a function that will print any name given to it. "
   ]
  },
  {
   "cell_type": "code",
   "execution_count": 1,
   "metadata": {},
   "outputs": [
    {
     "name": "stdout",
     "output_type": "stream",
     "text": [
      "My name is Cole Manschot\n"
     ]
    }
   ],
   "source": [
    "print(\"My name is Cole Manschot\")"
   ]
  },
  {
   "cell_type": "markdown",
   "metadata": {},
   "source": [
    "***\n",
    "\n",
    "# Q2: Create a function that will calculate my grocery bill. The function should take two lists, one of the quantity of items and one for their respective cost. You should include directions in the comments. \n"
   ]
  },
  {
   "cell_type": "code",
   "execution_count": 3,
   "metadata": {},
   "outputs": [],
   "source": [
    "# My grocery list\n",
    "\n",
    "spam = 4\n",
    "eggs = 12\n",
    "bacon = 1\n",
    "tomato = 1\n",
    "sausage = 1\n",
    "lobster_thermidor = 1\n",
    "\n",
    "cost = spam*1 + eggs*1.25 + bacon*3 + tomato*0.78 + sausage*2 + lobster_thermidor*10"
   ]
  },
  {
   "cell_type": "markdown",
   "metadata": {},
   "source": [
    "***\n",
    "\n",
    "# Q3: Write a function that subsets and returns a numpy array to all values less than a reference. "
   ]
  },
  {
   "cell_type": "code",
   "execution_count": 10,
   "metadata": {},
   "outputs": [
    {
     "data": {
      "text/plain": [
       "array([3])"
      ]
     },
     "execution_count": 10,
     "metadata": {},
     "output_type": "execute_result"
    }
   ],
   "source": [
    "import numpy as np\n",
    "np.array([1,2,3])[np.array([1,2,3]) > 2]"
   ]
  },
  {
   "cell_type": "markdown",
   "metadata": {},
   "source": [
    "***\n",
    "\n",
    "# Q4: Write a function that takes in a file path and lists all files in the folder. "
   ]
  },
  {
   "cell_type": "code",
   "execution_count": 13,
   "metadata": {},
   "outputs": [
    {
     "data": {
      "text/plain": [
       "['classics.data',\n",
       " 'wine_data',\n",
       " 'bsa.csv',\n",
       " 'CollegeScorecard_Raw_Data.zip',\n",
       " 'video_games.csv',\n",
       " 'classics.py',\n",
       " 'county_demographics.csv',\n",
       " 'CollegeData']"
      ]
     },
     "execution_count": 13,
     "metadata": {},
     "output_type": "execute_result"
    }
   ],
   "source": [
    "import os\n",
    "os.listdir('/shared/dsc495/')"
   ]
  }
 ],
 "metadata": {
  "kernelspec": {
   "display_name": "DSC495",
   "language": "python",
   "name": "dsc495"
  },
  "language_info": {
   "codemirror_mode": {
    "name": "ipython",
    "version": 3
   },
   "file_extension": ".py",
   "mimetype": "text/x-python",
   "name": "python",
   "nbconvert_exporter": "python",
   "pygments_lexer": "ipython3",
   "version": "3.10.1"
  }
 },
 "nbformat": 4,
 "nbformat_minor": 4
}
