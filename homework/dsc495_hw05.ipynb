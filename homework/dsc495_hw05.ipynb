{
 "cells": [
  {
   "cell_type": "markdown",
   "metadata": {},
   "source": [
    "# Assignment \\#05\n",
    "\n",
    "We will focus on creating graphical summaries for a single data set. \n",
    "\n",
    "We will extend these to multiple data sets in the next assignment. \n"
   ]
  },
  {
   "cell_type": "code",
   "execution_count": 12,
   "metadata": {},
   "outputs": [],
   "source": [
    "import os\n",
    "import numpy as np\n",
    "import pandas as pd\n",
    "import matplotlib.pyplot as plt"
   ]
  },
  {
   "cell_type": "markdown",
   "metadata": {},
   "source": [
    "## Q1: Read in the College Data Merged 2019-20 file and calculate the cost of attendance for each university. \n",
    "\n",
    "The cost of attendance is the sum of the below four columns: \n",
    " <div><center>\n",
    "    [\"TUITIONFEE_IN\", \"BOOKSUPPLY\", \"ROOMBOARD_ON\", \"OTHEREXPENSE_ON\"]\n",
    " </div>\n",
    "    \n",
    "Set the index as `INSTNM`.\n",
    "    \n",
    "Remove all universities with a zero cost of attendance. Save the result as `series19`.\n",
    "   \n",
    "    "
   ]
  },
  {
   "cell_type": "code",
   "execution_count": null,
   "metadata": {},
   "outputs": [],
   "source": []
  },
  {
   "cell_type": "markdown",
   "metadata": {},
   "source": [
    "## Q2: Make three histogram with 1) 10 bins, 2) 15 bins, and 3) bins of width 10000\n"
   ]
  },
  {
   "cell_type": "code",
   "execution_count": null,
   "metadata": {},
   "outputs": [],
   "source": []
  },
  {
   "cell_type": "markdown",
   "metadata": {},
   "source": [
    "## Q3: Make a scatter plot for each combination of the four cost of attendance variables for schools with a non-zero total cost of attendance in a single figure.\n",
    "\n",
    "Hint: There are six combinations. Use the option `figsize=()` to make the plots easier to see. "
   ]
  },
  {
   "cell_type": "code",
   "execution_count": null,
   "metadata": {},
   "outputs": [],
   "source": []
  },
  {
   "cell_type": "markdown",
   "metadata": {},
   "source": [
    "## Q4: Interpret the graphs. "
   ]
  },
  {
   "cell_type": "code",
   "execution_count": null,
   "metadata": {},
   "outputs": [],
   "source": []
  }
 ],
 "metadata": {
  "kernelspec": {
   "display_name": "DSC495",
   "language": "python",
   "name": "dsc495"
  },
  "language_info": {
   "codemirror_mode": {
    "name": "ipython",
    "version": 3
   },
   "file_extension": ".py",
   "mimetype": "text/x-python",
   "name": "python",
   "nbconvert_exporter": "python",
   "pygments_lexer": "ipython3",
   "version": "3.10.1"
  }
 },
 "nbformat": 4,
 "nbformat_minor": 4
}
