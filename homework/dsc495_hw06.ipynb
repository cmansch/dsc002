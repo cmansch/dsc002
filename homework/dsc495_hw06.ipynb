{
 "cells": [
  {
   "cell_type": "markdown",
   "metadata": {},
   "source": [
    "# Assignment \\#06\n",
    "\n",
    "The focus is to graph data from our college data example. \n",
    "\n",
    "We will extend graphical summaries to multiple data sets this week. "
   ]
  },
  {
   "cell_type": "code",
   "execution_count": 1,
   "metadata": {},
   "outputs": [],
   "source": [
    "import os\n",
    "import numpy as np\n",
    "import pandas as pd\n",
    "import matplotlib.pyplot as plt\n",
    "import seaborn as sns"
   ]
  },
  {
   "cell_type": "markdown",
   "metadata": {},
   "source": [
    "## Q0: Create a data frame that has the cost of attendance for each institution by year. Use the hints below. \n",
    "\n",
    "If this takes $>30$ seconds, try changing the method. \n",
    "\n",
    "\n",
    "The below code comes from the solution to a previous homework assignment. \n",
    "\n",
    "You should modify this code to create a series named `cost_series` from the data frame `df` with the `name` cYEAR. For example, the data from the 2019-20 file should be `c2019`. \n",
    "\n",
    "**Try performing a single merge before doing it in every loop**\n",
    "\n",
    "Use an `if-else` statement to create the series `cost` when `i=0`; otherwise, merge the existing `cost` with the loop-specific `cost_series`.  \n",
    "\n",
    "To merge two data frames, use the pandas `merge` function. \n",
    "\n",
    "`pd.merge(df_left, df_right, how=how_, left_index=l_, right_index=r_, suffixes=(None,None), copy=False)`\n",
    "\n",
    "The two data frames to merge are df_left and df_right. `how_` governs which data to keep. Here we should use `outer` to keep data from both sources. The indices should be either True or False and indicate whether to merge on the indices. Suffixes will append the given strings to the left and right data frames. However, here we do not want this to occur. \n",
    "\n"
   ]
  },
  {
   "cell_type": "code",
   "execution_count": null,
   "metadata": {},
   "outputs": [],
   "source": []
  },
  {
   "cell_type": "markdown",
   "metadata": {},
   "source": [
    "## Q1:  What do the missing values in the final data frame `costs` signify?"
   ]
  },
  {
   "cell_type": "markdown",
   "metadata": {},
   "source": [
    "**Answer:** "
   ]
  },
  {
   "cell_type": "markdown",
   "metadata": {},
   "source": [
    "## Q2: Make a pair plot for the years 2006-2016. Then interpret the pair plots below. \n",
    "\n",
    "This may take 30 seconds. "
   ]
  },
  {
   "cell_type": "code",
   "execution_count": null,
   "metadata": {},
   "outputs": [],
   "source": []
  },
  {
   "cell_type": "markdown",
   "metadata": {},
   "source": [
    "**Answer:** "
   ]
  },
  {
   "cell_type": "markdown",
   "metadata": {},
   "source": [
    "## Q3: Try making a line plot with the years on the x-axis and the tuition cost on the y-axis. Make a line plot with 10 universities, 200, 1000, and the entire data frame. \n",
    "\n",
    "Hint: years go from 1996-2019 inclusive and matplotlib creates line plots using `plot`. \n",
    "\n",
    "The plots will take increasing amount of time. \n",
    "\n"
   ]
  },
  {
   "cell_type": "code",
   "execution_count": null,
   "metadata": {},
   "outputs": [],
   "source": []
  },
  {
   "cell_type": "markdown",
   "metadata": {},
   "source": [
    "## Q4: Interpret the graphs. Is there any difficulting in interpreting them?"
   ]
  },
  {
   "cell_type": "markdown",
   "metadata": {},
   "source": [
    "**Answer:**"
   ]
  },
  {
   "cell_type": "markdown",
   "metadata": {},
   "source": [
    "## Q5: Select a random subsample of 200 universities and make a line plot of those universities.  \n",
    "\n",
    "To keep your results reproducible, leave the `np.random.seed(1)` call. \n",
    "\n",
    "To generate a random sample of integers, you can use `np.random.randint`. It takes parameters `low` and `high` for the lowest and highest possible integers, and `size` for how many draws to take. \n"
   ]
  },
  {
   "cell_type": "code",
   "execution_count": null,
   "metadata": {},
   "outputs": [],
   "source": []
  },
  {
   "cell_type": "markdown",
   "metadata": {},
   "source": [
    "## Q6: How does this compare to the plots from Q3?"
   ]
  },
  {
   "cell_type": "markdown",
   "metadata": {},
   "source": []
  }
 ],
 "metadata": {
  "kernelspec": {
   "display_name": "DSC495",
   "language": "python",
   "name": "dsc495"
  },
  "language_info": {
   "codemirror_mode": {
    "name": "ipython",
    "version": 3
   },
   "file_extension": ".py",
   "mimetype": "text/x-python",
   "name": "python",
   "nbconvert_exporter": "python",
   "pygments_lexer": "ipython3",
   "version": "3.10.1"
  }
 },
 "nbformat": 4,
 "nbformat_minor": 4
}
